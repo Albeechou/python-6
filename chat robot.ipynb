{
 "cells": [
  {
   "cell_type": "code",
   "execution_count": 1,
   "id": "30089294-885a-43e9-aeb2-7d1f25c0871a",
   "metadata": {},
   "outputs": [
    {
     "name": "stdout",
     "output_type": "stream",
     "text": [
      "Collecting winspeech\n",
      "  Downloading winspeech-1.0.1-py2.py3-none-any.whl.metadata (2.2 kB)\n",
      "Requirement already satisfied: pywin32 in c:\\users\\zhu\\anaconda3\\lib\\site-packages (from winspeech) (305.1)\n",
      "Downloading winspeech-1.0.1-py2.py3-none-any.whl (6.9 kB)\n",
      "Installing collected packages: winspeech\n",
      "Successfully installed winspeech-1.0.1\n"
     ]
    }
   ],
   "source": [
    "!pip install winspeech"
   ]
  },
  {
   "cell_type": "code",
   "execution_count": 2,
   "id": "81f62ea8-bba9-4fd8-a8b0-49cd692ccb69",
   "metadata": {},
   "outputs": [
    {
     "name": "stdout",
     "output_type": "stream",
     "text": [
      "Requirement already satisfied: SpeechRecognition in c:\\users\\zhu\\anaconda3\\lib\\site-packages (3.10.3)\n",
      "Requirement already satisfied: requests>=2.26.0 in c:\\users\\zhu\\anaconda3\\lib\\site-packages (from SpeechRecognition) (2.31.0)\n",
      "Requirement already satisfied: typing-extensions in c:\\users\\zhu\\anaconda3\\lib\\site-packages (from SpeechRecognition) (4.9.0)\n",
      "Requirement already satisfied: charset-normalizer<4,>=2 in c:\\users\\zhu\\anaconda3\\lib\\site-packages (from requests>=2.26.0->SpeechRecognition) (2.0.4)\n",
      "Requirement already satisfied: idna<4,>=2.5 in c:\\users\\zhu\\anaconda3\\lib\\site-packages (from requests>=2.26.0->SpeechRecognition) (3.4)\n",
      "Requirement already satisfied: urllib3<3,>=1.21.1 in c:\\users\\zhu\\anaconda3\\lib\\site-packages (from requests>=2.26.0->SpeechRecognition) (2.0.7)\n",
      "Requirement already satisfied: certifi>=2017.4.17 in c:\\users\\zhu\\anaconda3\\lib\\site-packages (from requests>=2.26.0->SpeechRecognition) (2024.2.2)\n"
     ]
    }
   ],
   "source": [
    "!pip install SpeechRecognition"
   ]
  },
  {
   "cell_type": "code",
   "execution_count": 3,
   "id": "2c4c338a-d85f-48f6-93c3-1b2ef3a7f9e3",
   "metadata": {
    "scrolled": true
   },
   "outputs": [
    {
     "name": "stdout",
     "output_type": "stream",
     "text": [
      "Collecting pipwin\n",
      "  Downloading pipwin-0.5.2.tar.gz (7.9 kB)\n",
      "  Preparing metadata (setup.py): started\n",
      "  Preparing metadata (setup.py): finished with status 'done'\n",
      "Collecting docopt (from pipwin)\n",
      "  Downloading docopt-0.6.2.tar.gz (25 kB)\n",
      "  Preparing metadata (setup.py): started\n",
      "  Preparing metadata (setup.py): finished with status 'done'\n",
      "Requirement already satisfied: requests in c:\\users\\zhu\\anaconda3\\lib\\site-packages (from pipwin) (2.31.0)\n",
      "Collecting pyprind (from pipwin)\n",
      "  Downloading PyPrind-2.11.3-py2.py3-none-any.whl.metadata (1.1 kB)\n",
      "Requirement already satisfied: six in c:\\users\\zhu\\anaconda3\\lib\\site-packages (from pipwin) (1.16.0)\n",
      "Requirement already satisfied: beautifulsoup4>=4.9.0 in c:\\users\\zhu\\anaconda3\\lib\\site-packages (from pipwin) (4.12.2)\n",
      "Collecting js2py (from pipwin)\n",
      "  Downloading Js2Py-0.74-py3-none-any.whl.metadata (868 bytes)\n",
      "Requirement already satisfied: packaging in c:\\users\\zhu\\anaconda3\\lib\\site-packages (from pipwin) (23.1)\n",
      "Collecting pySmartDL>=1.3.1 (from pipwin)\n",
      "  Downloading pySmartDL-1.3.4-py3-none-any.whl.metadata (2.8 kB)\n",
      "Requirement already satisfied: soupsieve>1.2 in c:\\users\\zhu\\anaconda3\\lib\\site-packages (from beautifulsoup4>=4.9.0->pipwin) (2.5)\n",
      "Collecting tzlocal>=1.2 (from js2py->pipwin)\n",
      "  Downloading tzlocal-5.2-py3-none-any.whl.metadata (7.8 kB)\n",
      "Collecting pyjsparser>=2.5.1 (from js2py->pipwin)\n",
      "  Downloading pyjsparser-2.7.1.tar.gz (24 kB)\n",
      "  Preparing metadata (setup.py): started\n",
      "  Preparing metadata (setup.py): finished with status 'done'\n",
      "Requirement already satisfied: charset-normalizer<4,>=2 in c:\\users\\zhu\\anaconda3\\lib\\site-packages (from requests->pipwin) (2.0.4)\n",
      "Requirement already satisfied: idna<4,>=2.5 in c:\\users\\zhu\\anaconda3\\lib\\site-packages (from requests->pipwin) (3.4)\n",
      "Requirement already satisfied: urllib3<3,>=1.21.1 in c:\\users\\zhu\\anaconda3\\lib\\site-packages (from requests->pipwin) (2.0.7)\n",
      "Requirement already satisfied: certifi>=2017.4.17 in c:\\users\\zhu\\anaconda3\\lib\\site-packages (from requests->pipwin) (2024.2.2)\n",
      "Requirement already satisfied: tzdata in c:\\users\\zhu\\anaconda3\\lib\\site-packages (from tzlocal>=1.2->js2py->pipwin) (2023.3)\n",
      "Downloading pySmartDL-1.3.4-py3-none-any.whl (20 kB)\n",
      "Downloading Js2Py-0.74-py3-none-any.whl (1.0 MB)\n",
      "   ---------------------------------------- 0.0/1.0 MB ? eta -:--:--\n",
      "   - -------------------------------------- 0.0/1.0 MB 1.3 MB/s eta 0:00:01\n",
      "   -- ------------------------------------- 0.1/1.0 MB 812.7 kB/s eta 0:00:02\n",
      "   ---- ----------------------------------- 0.1/1.0 MB 930.9 kB/s eta 0:00:01\n",
      "   ----- ---------------------------------- 0.1/1.0 MB 847.9 kB/s eta 0:00:02\n",
      "   ------- -------------------------------- 0.2/1.0 MB 908.0 kB/s eta 0:00:01\n",
      "   -------- ------------------------------- 0.2/1.0 MB 860.2 kB/s eta 0:00:01\n",
      "   --------- ------------------------------ 0.3/1.0 MB 871.5 kB/s eta 0:00:01\n",
      "   ---------- ----------------------------- 0.3/1.0 MB 739.6 kB/s eta 0:00:02\n",
      "   ----------- ---------------------------- 0.3/1.0 MB 759.5 kB/s eta 0:00:01\n",
      "   ------------ --------------------------- 0.3/1.0 MB 678.1 kB/s eta 0:00:02\n",
      "   -------------- ------------------------- 0.4/1.0 MB 716.8 kB/s eta 0:00:01\n",
      "   --------------- ------------------------ 0.4/1.0 MB 731.4 kB/s eta 0:00:01\n",
      "   ----------------- ---------------------- 0.4/1.0 MB 724.0 kB/s eta 0:00:01\n",
      "   ------------------ --------------------- 0.5/1.0 MB 753.7 kB/s eta 0:00:01\n",
      "   -------------------- ------------------- 0.5/1.0 MB 777.1 kB/s eta 0:00:01\n",
      "   ----------------------- ---------------- 0.6/1.0 MB 808.1 kB/s eta 0:00:01\n",
      "   ------------------------ --------------- 0.6/1.0 MB 811.9 kB/s eta 0:00:01\n",
      "   -------------------------- ------------- 0.7/1.0 MB 843.9 kB/s eta 0:00:01\n",
      "   ----------------------------- ---------- 0.8/1.0 MB 866.0 kB/s eta 0:00:01\n",
      "   ------------------------------ --------- 0.8/1.0 MB 869.3 kB/s eta 0:00:01\n",
      "   ---------------------------------- ----- 0.9/1.0 MB 913.3 kB/s eta 0:00:01\n",
      "   ---------------------------------- ----- 0.9/1.0 MB 894.0 kB/s eta 0:00:01\n",
      "   -------------------------------------- - 1.0/1.0 MB 938.9 kB/s eta 0:00:01\n",
      "   ---------------------------------------- 1.0/1.0 MB 934.9 kB/s eta 0:00:00\n",
      "Downloading PyPrind-2.11.3-py2.py3-none-any.whl (8.4 kB)\n",
      "Downloading tzlocal-5.2-py3-none-any.whl (17 kB)\n",
      "Building wheels for collected packages: pipwin, docopt, pyjsparser\n",
      "  Building wheel for pipwin (setup.py): started\n",
      "  Building wheel for pipwin (setup.py): finished with status 'done'\n",
      "  Created wheel for pipwin: filename=pipwin-0.5.2-py2.py3-none-any.whl size=8795 sha256=73dade5907384471eec43d440043e1e46cc91a3595854ac3d1fd5d4bdb9759fa\n",
      "  Stored in directory: c:\\users\\zhu\\appdata\\local\\pip\\cache\\wheels\\07\\45\\2e\\51ee464b7c3407327439df34c2fc62f978a1e5084aaf23d201\n",
      "  Building wheel for docopt (setup.py): started\n",
      "  Building wheel for docopt (setup.py): finished with status 'done'\n",
      "  Created wheel for docopt: filename=docopt-0.6.2-py2.py3-none-any.whl size=13773 sha256=72061519ec5a82d1d26000abe9c96fcbc1c0f36fa1b7859f4c03e2b358c0b73d\n",
      "  Stored in directory: c:\\users\\zhu\\appdata\\local\\pip\\cache\\wheels\\1a\\b0\\8c\\4b75c4116c31f83c8f9f047231251e13cc74481cca4a78a9ce\n",
      "  Building wheel for pyjsparser (setup.py): started\n",
      "  Building wheel for pyjsparser (setup.py): finished with status 'done'\n",
      "  Created wheel for pyjsparser: filename=pyjsparser-2.7.1-py3-none-any.whl size=25988 sha256=4d1c8cfbac0f9c214f93ba72de535bb309ace22ee77d6305fe8e4dd1796391a3\n",
      "  Stored in directory: c:\\users\\zhu\\appdata\\local\\pip\\cache\\wheels\\a5\\9a\\30\\1003e89ab4555b81840ca46d361bf184f1e6ad880cae3b62a9\n",
      "Successfully built pipwin docopt pyjsparser\n",
      "Installing collected packages: pySmartDL, pyprind, pyjsparser, docopt, tzlocal, js2py, pipwin\n",
      "Successfully installed docopt-0.6.2 js2py-0.74 pipwin-0.5.2 pySmartDL-1.3.4 pyjsparser-2.7.1 pyprind-2.11.3 tzlocal-5.2\n"
     ]
    },
    {
     "name": "stderr",
     "output_type": "stream",
     "text": [
      "WARNING: Retrying (Retry(total=4, connect=None, read=None, redirect=None, status=None)) after connection broken by 'ReadTimeoutError(\"HTTPSConnectionPool(host='pypi.org', port=443): Read timed out. (read timeout=15)\")': /simple/docopt/\n"
     ]
    }
   ],
   "source": [
    "!pip install pipwin"
   ]
  },
  {
   "cell_type": "code",
   "execution_count": 6,
   "id": "661d66d1-2771-4e48-a3b7-9f1d1b802230",
   "metadata": {},
   "outputs": [
    {
     "name": "stdout",
     "output_type": "stream",
     "text": [
      "Requirement already satisfied: PyAudio in c:\\users\\zhu\\anaconda3\\lib\\site-packages (0.2.11)\n"
     ]
    }
   ],
   "source": [
    "!pip install PyAudio"
   ]
  },
  {
   "cell_type": "code",
   "execution_count": 7,
   "id": "af2a703d-71b3-47b7-8682-89c80444c856",
   "metadata": {},
   "outputs": [],
   "source": [
    "import speech_recognition\n",
    "def listenTo():\n",
    "    r=speech_recognition.Recognizer()\n",
    "    with speech_recognition.Microphone() as sourse:\n",
    "        r.adjust_for_ambient_noise(sourse)\n",
    "        audio=r.listen(sourse)\n",
    "    return r.recognize_google(audio,language='zh-TW')"
   ]
  },
  {
   "cell_type": "code",
   "execution_count": 8,
   "id": "40a92bad-0485-4ff0-8ce4-68afc082c3c0",
   "metadata": {},
   "outputs": [
    {
     "name": "stdout",
     "output_type": "stream",
     "text": [
      "pygame 2.5.2 (SDL 2.28.3, Python 3.11.7)\n",
      "Hello from the pygame community. https://www.pygame.org/contribute.html\n"
     ]
    }
   ],
   "source": [
    "import tempfile\n",
    "from gtts import gTTS\n",
    "from pygame import mixer\n",
    "mixer.init()"
   ]
  },
  {
   "cell_type": "code",
   "execution_count": 9,
   "id": "1cb99f48-c770-4b90-ac50-02f1f42ef9df",
   "metadata": {},
   "outputs": [],
   "source": [
    "def speak(sentence):\n",
    "    with tempfile.NamedTemporaryFile(delete=True) as fp:\n",
    "        tts=gTTS(text=sentence,lang='zh-TW')\n",
    "        tts.save('{}.mp3'.format(fp.name))\n",
    "        mixer.music.load('{}.mp3'.format(fp.name))\n",
    "        mixer.music.play()\n",
    "speak('大家好')"
   ]
  },
  {
   "cell_type": "code",
   "execution_count": 10,
   "id": "12e31fd4-0825-4cce-83fd-3e118bd49cf3",
   "metadata": {},
   "outputs": [],
   "source": [
    "qa = {'你叫什麼名字':'我叫谷歌妹','請問你幾歲了':'小女子今年才90歲囉!','你最喜歡的人是誰':'我最喜歡陳教授'}"
   ]
  },
  {
   "cell_type": "code",
   "execution_count": 13,
   "id": "69d75391-4ec8-48c0-b84e-9722ddd920c4",
   "metadata": {},
   "outputs": [],
   "source": [
    "speak(qa.get(listenTo(),'聽不懂,請再輸入更多台詞'))"
   ]
  },
  {
   "cell_type": "code",
   "execution_count": null,
   "id": "84df788f-a56d-4117-98f1-d18a40a04d35",
   "metadata": {},
   "outputs": [],
   "source": []
  }
 ],
 "metadata": {
  "kernelspec": {
   "display_name": "Python 3 (ipykernel)",
   "language": "python",
   "name": "python3"
  },
  "language_info": {
   "codemirror_mode": {
    "name": "ipython",
    "version": 3
   },
   "file_extension": ".py",
   "mimetype": "text/x-python",
   "name": "python",
   "nbconvert_exporter": "python",
   "pygments_lexer": "ipython3",
   "version": "3.11.7"
  }
 },
 "nbformat": 4,
 "nbformat_minor": 5
}
